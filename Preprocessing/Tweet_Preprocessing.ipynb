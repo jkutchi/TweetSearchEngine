{
 "cells": [
  {
   "cell_type": "markdown",
   "metadata": {},
   "source": [
    "# Imports"
   ]
  },
  {
   "cell_type": "code",
   "execution_count": 1,
   "metadata": {},
   "outputs": [
    {
     "name": "stderr",
     "output_type": "stream",
     "text": [
      "[nltk_data] Downloading package punkt to\n",
      "[nltk_data]     C:\\Users\\jkutc\\AppData\\Roaming\\nltk_data...\n",
      "[nltk_data]   Package punkt is already up-to-date!\n",
      "[nltk_data] Downloading package wordnet to\n",
      "[nltk_data]     C:\\Users\\jkutc\\AppData\\Roaming\\nltk_data...\n",
      "[nltk_data]   Package wordnet is already up-to-date!\n",
      "[nltk_data] Downloading package stopwords to\n",
      "[nltk_data]     C:\\Users\\jkutc\\AppData\\Roaming\\nltk_data...\n",
      "[nltk_data]   Package stopwords is already up-to-date!\n"
     ]
    }
   ],
   "source": [
    "import json\n",
    "import re\n",
    "import unicodedata\n",
    "\n",
    "import nltk\n",
    "from nltk.tokenize import word_tokenize  \n",
    "from nltk.corpus import stopwords\n",
    "from nltk.stem import WordNetLemmatizer\n",
    "from nltk.stem.snowball import SnowballStemmer\n",
    "from nltk.stem.porter import *\n",
    "nltk.download('punkt')\n",
    "nltk.download('wordnet')\n",
    "nltk.download('stopwords')\n",
    "\n",
    "import flair\n",
    "\n",
    "import wikipedia"
   ]
  },
  {
   "cell_type": "code",
   "execution_count": 2,
   "metadata": {},
   "outputs": [],
   "source": [
    "names = ['jacob', 'winston', 'niyi']"
   ]
  },
  {
   "cell_type": "code",
   "execution_count": 3,
   "metadata": {},
   "outputs": [],
   "source": [
    "with open('../Twitter_Scraper/Data/' + names[0] + '_tweets.json') as json_data:\n",
    "    jacob_tweets_json_from_file = json.load(json_data)"
   ]
  },
  {
   "cell_type": "code",
   "execution_count": 4,
   "metadata": {},
   "outputs": [],
   "source": [
    "with open('../Twitter_Scraper/Data/' + names[1] + '_tweets.json') as json_data:\n",
    "    winston_tweets_json_from_file = json.load(json_data)"
   ]
  },
  {
   "cell_type": "code",
   "execution_count": 5,
   "metadata": {},
   "outputs": [],
   "source": [
    "with open('../Twitter_Scraper/Data/' + names[2] + '_tweets.json') as json_data:\n",
    "    niyi_tweets_json_from_file = json.load(json_data)"
   ]
  },
  {
   "cell_type": "code",
   "execution_count": 6,
   "metadata": {},
   "outputs": [
    {
     "data": {
      "text/plain": [
       "{'created_at': 'Sat Jan 14 23:59:52 +0000 2017',\n",
       " 'id': 820420199774035970,\n",
       " 'id_str': '820420199774035970',\n",
       " 'text': 'RT @nytimes: SpaceX launches rocket, its first since a different Falcon 9 caught fire and exploded in Florida  https://t.co/5GdkDkC1BX',\n",
       " 'source': '<a href=\"http://twitter.com/download/android\" rel=\"nofollow\">Twitter for Android</a>',\n",
       " 'truncated': False,\n",
       " 'in_reply_to_status_id': None,\n",
       " 'in_reply_to_status_id_str': None,\n",
       " 'in_reply_to_user_id': None,\n",
       " 'in_reply_to_user_id_str': None,\n",
       " 'in_reply_to_screen_name': None,\n",
       " 'user': {'id': 735885465006575617,\n",
       "  'id_str': '735885465006575617',\n",
       "  'name': 'News RT World🌍',\n",
       "  'screen_name': 'NewsRTWorld',\n",
       "  'location': 'Brasília, Brasil',\n",
       "  'url': None,\n",
       "  'description': 'RT do Brasil e do Mundo.\\n\\n\\nRT Brasil y del mundo.\\n\\n\\nRT Brésil et du monde.\\n\\n\\nRT Brazil and the world.\\n       \\n@NewsRTWorld',\n",
       "  'translator_type': 'none',\n",
       "  'protected': False,\n",
       "  'verified': False,\n",
       "  'followers_count': 811,\n",
       "  'friends_count': 755,\n",
       "  'listed_count': 26,\n",
       "  'favourites_count': 29941,\n",
       "  'statuses_count': 33733,\n",
       "  'created_at': 'Thu May 26 17:29:01 +0000 2016',\n",
       "  'utc_offset': None,\n",
       "  'time_zone': None,\n",
       "  'geo_enabled': False,\n",
       "  'lang': None,\n",
       "  'contributors_enabled': False,\n",
       "  'is_translator': False,\n",
       "  'profile_background_color': 'F5F8FA',\n",
       "  'profile_background_image_url': '',\n",
       "  'profile_background_image_url_https': '',\n",
       "  'profile_background_tile': False,\n",
       "  'profile_link_color': '1DA1F2',\n",
       "  'profile_sidebar_border_color': 'C0DEED',\n",
       "  'profile_sidebar_fill_color': 'DDEEF6',\n",
       "  'profile_text_color': '333333',\n",
       "  'profile_use_background_image': True,\n",
       "  'profile_image_url': 'http://pbs.twimg.com/profile_images/980110758448164864/BqIroqVF_normal.jpg',\n",
       "  'profile_image_url_https': 'https://pbs.twimg.com/profile_images/980110758448164864/BqIroqVF_normal.jpg',\n",
       "  'profile_banner_url': 'https://pbs.twimg.com/profile_banners/735885465006575617/1464285235',\n",
       "  'default_profile': True,\n",
       "  'default_profile_image': False,\n",
       "  'following': None,\n",
       "  'follow_request_sent': None,\n",
       "  'notifications': None,\n",
       "  'withheld_in_countries': []},\n",
       " 'geo': None,\n",
       " 'coordinates': None,\n",
       " 'place': None,\n",
       " 'contributors': None,\n",
       " 'retweeted_status': {'created_at': 'Sat Jan 14 23:42:22 +0000 2017',\n",
       "  'id': 820415792982462467,\n",
       "  'id_str': '820415792982462467',\n",
       "  'text': 'SpaceX launches rocket, its first since a different Falcon 9 caught fire and exploded in Florida  https://t.co/5GdkDkC1BX',\n",
       "  'source': '<a href=\"http://www.socialflow.com\" rel=\"nofollow\">SocialFlow</a>',\n",
       "  'truncated': False,\n",
       "  'in_reply_to_status_id': None,\n",
       "  'in_reply_to_status_id_str': None,\n",
       "  'in_reply_to_user_id': None,\n",
       "  'in_reply_to_user_id_str': None,\n",
       "  'in_reply_to_screen_name': None,\n",
       "  'user': {'id': 807095,\n",
       "   'id_str': '807095',\n",
       "   'name': 'The New York Times',\n",
       "   'screen_name': 'nytimes',\n",
       "   'location': 'New York City',\n",
       "   'url': 'http://www.nytimes.com/',\n",
       "   'description': 'News tips? Share them here: http://nyti.ms/2FVHq9v',\n",
       "   'translator_type': 'none',\n",
       "   'protected': False,\n",
       "   'verified': True,\n",
       "   'followers_count': 50891071,\n",
       "   'friends_count': 854,\n",
       "   'listed_count': 211654,\n",
       "   'favourites_count': 18667,\n",
       "   'statuses_count': 452655,\n",
       "   'created_at': 'Fri Mar 02 20:41:42 +0000 2007',\n",
       "   'utc_offset': None,\n",
       "   'time_zone': None,\n",
       "   'geo_enabled': False,\n",
       "   'lang': None,\n",
       "   'contributors_enabled': False,\n",
       "   'is_translator': False,\n",
       "   'profile_background_color': '131516',\n",
       "   'profile_background_image_url': 'http://abs.twimg.com/images/themes/theme14/bg.gif',\n",
       "   'profile_background_image_url_https': 'https://abs.twimg.com/images/themes/theme14/bg.gif',\n",
       "   'profile_background_tile': True,\n",
       "   'profile_link_color': '607696',\n",
       "   'profile_sidebar_border_color': 'FFFFFF',\n",
       "   'profile_sidebar_fill_color': 'EFEFEF',\n",
       "   'profile_text_color': '333333',\n",
       "   'profile_use_background_image': True,\n",
       "   'profile_image_url': 'http://pbs.twimg.com/profile_images/1098244578472280064/gjkVMelR_normal.png',\n",
       "   'profile_image_url_https': 'https://pbs.twimg.com/profile_images/1098244578472280064/gjkVMelR_normal.png',\n",
       "   'profile_banner_url': 'https://pbs.twimg.com/profile_banners/807095/1584666392',\n",
       "   'default_profile': False,\n",
       "   'default_profile_image': False,\n",
       "   'following': None,\n",
       "   'follow_request_sent': None,\n",
       "   'notifications': None,\n",
       "   'withheld_in_countries': []},\n",
       "  'geo': None,\n",
       "  'coordinates': None,\n",
       "  'place': None,\n",
       "  'contributors': None,\n",
       "  'is_quote_status': False,\n",
       "  'quote_count': 11,\n",
       "  'reply_count': 9,\n",
       "  'retweet_count': 161,\n",
       "  'favorite_count': 372,\n",
       "  'entities': {'hashtags': [],\n",
       "   'urls': [{'url': 'https://t.co/5GdkDkC1BX',\n",
       "     'expanded_url': 'http://nyti.ms/2jbJfBe',\n",
       "     'display_url': 'nyti.ms/2jbJfBe',\n",
       "     'indices': [98, 121]}],\n",
       "   'user_mentions': [],\n",
       "   'symbols': []},\n",
       "  'favorited': False,\n",
       "  'retweeted': False,\n",
       "  'possibly_sensitive': False,\n",
       "  'filter_level': 'low',\n",
       "  'lang': 'en'},\n",
       " 'is_quote_status': False,\n",
       " 'quote_count': 0,\n",
       " 'reply_count': 0,\n",
       " 'retweet_count': 0,\n",
       " 'favorite_count': 0,\n",
       " 'entities': {'hashtags': [],\n",
       "  'urls': [{'url': 'https://t.co/5GdkDkC1BX',\n",
       "    'expanded_url': 'http://nyti.ms/2jbJfBe',\n",
       "    'display_url': 'nyti.ms/2jbJfBe',\n",
       "    'indices': [111, 134]}],\n",
       "  'user_mentions': [{'screen_name': 'nytimes',\n",
       "    'name': 'The New York Times',\n",
       "    'id': 807095,\n",
       "    'id_str': '807095',\n",
       "    'indices': [3, 11]}],\n",
       "  'symbols': []},\n",
       " 'favorited': False,\n",
       " 'retweeted': False,\n",
       " 'possibly_sensitive': False,\n",
       " 'filter_level': 'low',\n",
       " 'lang': 'en',\n",
       " 'matching_rules': [{'tag': None}]}"
      ]
     },
     "execution_count": 6,
     "metadata": {},
     "output_type": "execute_result"
    }
   ],
   "source": [
    "niyi_tweets_json_from_file[0]"
   ]
  },
  {
   "cell_type": "code",
   "execution_count": 7,
   "metadata": {},
   "outputs": [
    {
     "data": {
      "text/plain": [
       "{'created_at': 'Mon Jan 30 23:59:15 +0000 2017',\n",
       " 'id': 826218248731365376,\n",
       " 'id_str': '826218248731365376',\n",
       " 'text': 'Justice department lawyers instructed not to defend Trump migration order – reports https://t.co/xhjG6Glyhu https://t.co/TmUZRy3NxR',\n",
       " 'display_text_range': [0, 107],\n",
       " 'source': '<a href=\"https://dlvrit.com/\" rel=\"nofollow\">dlvr.it</a>',\n",
       " 'truncated': False,\n",
       " 'in_reply_to_status_id': None,\n",
       " 'in_reply_to_status_id_str': None,\n",
       " 'in_reply_to_user_id': None,\n",
       " 'in_reply_to_user_id_str': None,\n",
       " 'in_reply_to_screen_name': None,\n",
       " 'user': {'id': 48470839,\n",
       "  'id_str': '48470839',\n",
       "  'name': 'Patrick Willey',\n",
       "  'screen_name': 'cahulaan',\n",
       "  'location': 'Arizona, USA',\n",
       "  'url': None,\n",
       "  'description': \"🌵🌊 #TheResistance #BLM #MeToo #StayingBlueIn22  🚫 No DM's #HoldThemAllAccountable ✊🏻'E Pluribus Unum' 🗽\",\n",
       "  'translator_type': 'none',\n",
       "  'protected': False,\n",
       "  'verified': False,\n",
       "  'followers_count': 18344,\n",
       "  'friends_count': 18368,\n",
       "  'listed_count': 22,\n",
       "  'favourites_count': 68504,\n",
       "  'statuses_count': 868884,\n",
       "  'created_at': 'Thu Jun 18 20:05:34 +0000 2009',\n",
       "  'utc_offset': None,\n",
       "  'time_zone': None,\n",
       "  'geo_enabled': False,\n",
       "  'lang': None,\n",
       "  'contributors_enabled': False,\n",
       "  'is_translator': False,\n",
       "  'profile_background_color': '000000',\n",
       "  'profile_background_image_url': 'http://abs.twimg.com/images/themes/theme1/bg.png',\n",
       "  'profile_background_image_url_https': 'https://abs.twimg.com/images/themes/theme1/bg.png',\n",
       "  'profile_background_tile': False,\n",
       "  'profile_link_color': '000000',\n",
       "  'profile_sidebar_border_color': '000000',\n",
       "  'profile_sidebar_fill_color': '000000',\n",
       "  'profile_text_color': '000000',\n",
       "  'profile_use_background_image': False,\n",
       "  'profile_image_url': 'http://pbs.twimg.com/profile_images/1440093389316190214/Ugd3AqCh_normal.jpg',\n",
       "  'profile_image_url_https': 'https://pbs.twimg.com/profile_images/1440093389316190214/Ugd3AqCh_normal.jpg',\n",
       "  'profile_banner_url': 'https://pbs.twimg.com/profile_banners/48470839/1632894010',\n",
       "  'default_profile': False,\n",
       "  'default_profile_image': False,\n",
       "  'following': None,\n",
       "  'follow_request_sent': None,\n",
       "  'notifications': None,\n",
       "  'withheld_in_countries': []},\n",
       " 'geo': None,\n",
       " 'coordinates': None,\n",
       " 'place': None,\n",
       " 'contributors': None,\n",
       " 'is_quote_status': False,\n",
       " 'quote_count': 0,\n",
       " 'reply_count': 0,\n",
       " 'retweet_count': 0,\n",
       " 'favorite_count': 1,\n",
       " 'entities': {'hashtags': [],\n",
       "  'urls': [{'url': 'https://t.co/xhjG6Glyhu',\n",
       "    'expanded_url': 'http://dlvr.it/NFN2Dx',\n",
       "    'display_url': 'dlvr.it/NFN2Dx',\n",
       "    'indices': [84, 107]}],\n",
       "  'user_mentions': [],\n",
       "  'symbols': [],\n",
       "  'media': [{'id': 826218245845721088,\n",
       "    'id_str': '826218245845721088',\n",
       "    'indices': [108, 131],\n",
       "    'media_url': 'http://pbs.twimg.com/media/C3dRHfqUoAAOAA_.jpg',\n",
       "    'media_url_https': 'https://pbs.twimg.com/media/C3dRHfqUoAAOAA_.jpg',\n",
       "    'url': 'https://t.co/TmUZRy3NxR',\n",
       "    'display_url': 'pic.twitter.com/TmUZRy3NxR',\n",
       "    'expanded_url': 'https://twitter.com/cahulaan/status/826218248731365376/photo/1',\n",
       "    'type': 'photo',\n",
       "    'sizes': {'thumb': {'w': 150, 'h': 150, 'resize': 'crop'},\n",
       "     'small': {'w': 680, 'h': 357, 'resize': 'fit'},\n",
       "     'medium': {'w': 1200, 'h': 630, 'resize': 'fit'},\n",
       "     'large': {'w': 1200, 'h': 630, 'resize': 'fit'}}}]},\n",
       " 'extended_entities': {'media': [{'id': 826218245845721088,\n",
       "    'id_str': '826218245845721088',\n",
       "    'indices': [108, 131],\n",
       "    'media_url': 'http://pbs.twimg.com/media/C3dRHfqUoAAOAA_.jpg',\n",
       "    'media_url_https': 'https://pbs.twimg.com/media/C3dRHfqUoAAOAA_.jpg',\n",
       "    'url': 'https://t.co/TmUZRy3NxR',\n",
       "    'display_url': 'pic.twitter.com/TmUZRy3NxR',\n",
       "    'expanded_url': 'https://twitter.com/cahulaan/status/826218248731365376/photo/1',\n",
       "    'type': 'photo',\n",
       "    'sizes': {'thumb': {'w': 150, 'h': 150, 'resize': 'crop'},\n",
       "     'small': {'w': 680, 'h': 357, 'resize': 'fit'},\n",
       "     'medium': {'w': 1200, 'h': 630, 'resize': 'fit'},\n",
       "     'large': {'w': 1200, 'h': 630, 'resize': 'fit'}}}]},\n",
       " 'favorited': False,\n",
       " 'retweeted': False,\n",
       " 'possibly_sensitive': False,\n",
       " 'filter_level': 'low',\n",
       " 'lang': 'en',\n",
       " 'matching_rules': [{'tag': None}]}"
      ]
     },
     "execution_count": 7,
     "metadata": {},
     "output_type": "execute_result"
    }
   ],
   "source": [
    "niyi_tweets_json_from_file[-1]"
   ]
  },
  {
   "cell_type": "code",
   "execution_count": 8,
   "metadata": {},
   "outputs": [
    {
     "data": {
      "text/plain": [
       "400"
      ]
     },
     "execution_count": 8,
     "metadata": {},
     "output_type": "execute_result"
    }
   ],
   "source": [
    "len(niyi_tweets_json_from_file)"
   ]
  },
  {
   "cell_type": "code",
   "execution_count": 9,
   "metadata": {},
   "outputs": [],
   "source": [
    "tweet_list = jacob_tweets_json_from_file + winston_tweets_json_from_file + niyi_tweets_json_from_file"
   ]
  },
  {
   "cell_type": "markdown",
   "metadata": {},
   "source": [
    "# Preprocessing Functions"
   ]
  },
  {
   "cell_type": "code",
   "execution_count": 10,
   "metadata": {},
   "outputs": [],
   "source": [
    "def set_geo(tweet):\n",
    "    if tweet['geo'] != None:\n",
    "        return tweet['geo']\n",
    "    elif tweet['user']['location'] != None:\n",
    "        return tweet['user']['location']\n",
    "    else:\n",
    "        return None "
   ]
  },
  {
   "cell_type": "code",
   "execution_count": 11,
   "metadata": {},
   "outputs": [],
   "source": [
    "def remove_urls_from_text(text):\n",
    "    \"\"\"Remove URLs from a sample string\"\"\"\n",
    "    return re.sub(r\"http\\S+\", \"\", text)"
   ]
  },
  {
   "cell_type": "code",
   "execution_count": 12,
   "metadata": {},
   "outputs": [],
   "source": [
    "def remove_non_ascii(text):\n",
    "    \"\"\"Remove non-ASCII characters from list of tokenized words\"\"\"\n",
    "    new_text = []\n",
    "    for word in text:\n",
    "        new_word = unicodedata.normalize('NFKD', word).encode('ascii', 'ignore').decode('utf-8', 'ignore')\n",
    "        new_text.append(new_word)\n",
    "    return new_text"
   ]
  },
  {
   "cell_type": "code",
   "execution_count": 13,
   "metadata": {},
   "outputs": [],
   "source": [
    "def filter_tweet_text(text):\n",
    "    # Remove Urls\n",
    "    text = remove_urls_from_text(text)\n",
    "    \n",
    "    #Tokenization\n",
    "    nltk_tokenList = word_tokenize(text)\n",
    "    \n",
    "    # Remove non ascii (Emojis,etc)\n",
    "    nltk_tokenList = remove_non_ascii(nltk_tokenList)\n",
    "    \n",
    "    #Stemming\n",
    "    p_stemmer = PorterStemmer()\n",
    "    nltk_stemedList = []\n",
    "    for word in nltk_tokenList:\n",
    "        nltk_stemedList.append(p_stemmer.stem(word))\n",
    "    \n",
    "    #Lemmatization\n",
    "    wordnet_lemmatizer = WordNetLemmatizer()\n",
    "    nltk_lemmaList = []\n",
    "    for word in nltk_stemedList:\n",
    "        nltk_lemmaList.append(wordnet_lemmatizer.lemmatize(word))  \n",
    "    \n",
    "    #Filter stopwords\n",
    "    filtered_sentence = []  \n",
    "    nltk_stop_words = set(stopwords.words(\"english\"))\n",
    "    for w in nltk_lemmaList:  \n",
    "        if w not in nltk_stop_words:  \n",
    "            filtered_sentence.append(w)    #Removing Punctuation\n",
    "    \n",
    "    # Remove punctuation\n",
    "    punctuations=\"?:!.,;\"\n",
    "    for word in filtered_sentence:\n",
    "        if word in punctuations:\n",
    "            filtered_sentence.remove(word)\n",
    "\n",
    "    return filtered_sentence"
   ]
  },
  {
   "cell_type": "code",
   "execution_count": 14,
   "metadata": {},
   "outputs": [
    {
     "name": "stdout",
     "output_type": "stream",
     "text": [
      "2021-11-11 17:13:22,281 loading file C:\\Users\\jkutc\\.flair\\models\\sentiment-en-mix-distillbert_4.pt\n"
     ]
    }
   ],
   "source": [
    "flair_sentiment = flair.models.TextClassifier.load('en-sentiment')"
   ]
  },
  {
   "cell_type": "code",
   "execution_count": 15,
   "metadata": {},
   "outputs": [],
   "source": [
    "def sentiment_analysis(text):\n",
    "    # Remove Urls\n",
    "    text = remove_urls_from_text(text)\n",
    "    \n",
    "    sentence = flair.data.Sentence(text)\n",
    "    flair_sentiment.predict(sentence)\n",
    "    total_sentiment = sentence.labels[0]\n",
    "    assert total_sentiment.value in ['POSITIVE', 'NEGATIVE']\n",
    "    sign = 1 if total_sentiment.value == 'POSITIVE' else -1\n",
    "    score = total_sentiment.score\n",
    "    \n",
    "    if sign * score > 0.1:\n",
    "        return 'POSITIVE'\n",
    "    elif sign * score < -0.1:\n",
    "        return 'NEGATIVE'\n",
    "    else:\n",
    "        return 'NEUTRAL'"
   ]
  },
  {
   "cell_type": "code",
   "execution_count": 16,
   "metadata": {},
   "outputs": [
    {
     "name": "stdout",
     "output_type": "stream",
     "text": [
      "2021-11-11 17:13:23,299 --------------------------------------------------------------------------------\n",
      "2021-11-11 17:13:23,299 The model key 'ner' now maps to 'https://huggingface.co/flair/ner-english' on the HuggingFace ModelHub\n",
      "2021-11-11 17:13:23,300  - The most current version of the model is automatically downloaded from there.\n",
      "2021-11-11 17:13:23,300  - (you can alternatively manually download the original model at https://nlp.informatik.hu-berlin.de/resources/models/ner/en-ner-conll03-v0.4.pt)\n",
      "2021-11-11 17:13:23,300 --------------------------------------------------------------------------------\n",
      "2021-11-11 17:13:23,348 loading file C:\\Users\\jkutc\\.flair\\models\\ner-english\\4f4cdab26f24cb98b732b389e6cebc646c36f54cfd6e0b7d3b90b25656e4262f.8baa8ae8795f4df80b28e7f7b61d788ecbb057d1dc85aacb316f1bd02837a4a4\n"
     ]
    }
   ],
   "source": [
    "flair_ner = flair.models.SequenceTagger.load('ner')"
   ]
  },
  {
   "cell_type": "code",
   "execution_count": 17,
   "metadata": {},
   "outputs": [],
   "source": [
    "def named_entity_recognition(text):\n",
    "    text = remove_urls_from_text(text)\n",
    "    sentence = flair.data.Sentence(text)\n",
    "    flair_ner.predict(sentence)\n",
    "    entities_list = sentence.to_dict(tag_type='ner')['entities']\n",
    "    return entities_list"
   ]
  },
  {
   "cell_type": "code",
   "execution_count": 18,
   "metadata": {},
   "outputs": [],
   "source": [
    "def generate_wikipedia_links(named_entities):\n",
    "    for i in range(len(named_entities)):\n",
    "        del named_entities[i]['labels']\n",
    "        try:\n",
    "             named_entities[i]['wiki_url'] = wikipedia.page(named_entities[i]['text']).url      \n",
    "        except:\n",
    "            continue"
   ]
  },
  {
   "cell_type": "markdown",
   "metadata": {},
   "source": [
    "# Preprocessing"
   ]
  },
  {
   "cell_type": "code",
   "execution_count": 19,
   "metadata": {},
   "outputs": [],
   "source": [
    "preprocessed_tweet_list = []"
   ]
  },
  {
   "cell_type": "code",
   "execution_count": 20,
   "metadata": {},
   "outputs": [
    {
     "name": "stderr",
     "output_type": "stream",
     "text": [
      "C:\\Users\\jkutc\\anaconda3\\lib\\site-packages\\wikipedia\\wikipedia.py:389: GuessedAtParserWarning: No parser was explicitly specified, so I'm using the best available HTML parser for this system (\"lxml\"). This usually isn't a problem, but if you run this code on another system, or in a different virtual environment, it may use a different parser and behave differently.\n",
      "\n",
      "The code that caused this warning is on line 389 of the file C:\\Users\\jkutc\\anaconda3\\lib\\site-packages\\wikipedia\\wikipedia.py. To get rid of this warning, pass the additional argument 'features=\"lxml\"' to the BeautifulSoup constructor.\n",
      "\n",
      "  lis = BeautifulSoup(html).find_all('li')\n"
     ]
    }
   ],
   "source": [
    "for i in range(len(tweet_list)):\n",
    "    temp_user = {\n",
    "        'id' : tweet_list[i]['user']['id'],\n",
    "        'name' : tweet_list[i]['user']['name'],\n",
    "        'screen_name' : tweet_list[i]['user']['screen_name'],\n",
    "        'location' : tweet_list[i]['user']['location'],\n",
    "        'url' : tweet_list[i]['user']['url'],\n",
    "        'description' : tweet_list[i]['user']['description'],\n",
    "        'verified' : tweet_list[i]['user']['verified'],\n",
    "        'followers_count' : tweet_list[i]['user']['followers_count'],\n",
    "        'statuses_count' : tweet_list[i]['user']['statuses_count'],\n",
    "        'created_at' : tweet_list[i]['user']['created_at'],\n",
    "        'geo_enabled' : tweet_list[i]['user']['geo_enabled'],\n",
    "        'lang' : tweet_list[i]['user']['lang'],\n",
    "    }\n",
    "\n",
    "    named_entities_list = named_entity_recognition(tweet_list[i]['text'])\n",
    "    generate_wikipedia_links(named_entities_list)\n",
    "\n",
    "    temp_tweet = {\n",
    "        'created_at' : tweet_list[i]['created_at'],\n",
    "        'id' : tweet_list[i]['id'],\n",
    "        'text' : tweet_list[i]['text'],\n",
    "        'geo' : set_geo(tweet_list[i]),\n",
    "        'coordinates' : tweet_list[i]['coordinates'],\n",
    "        'quote_count' : tweet_list[i]['quote_count'],\n",
    "        'reply_count': tweet_list[i]['reply_count'],\n",
    "        'retweet_count': tweet_list[i]['retweet_count'],\n",
    "        'favorite_count': tweet_list[i]['favorite_count'],\n",
    "        'entities' : tweet_list[i]['entities'],\n",
    "        'lang' : tweet_list[i]['lang'],\n",
    "        'sentiment' : sentiment_analysis(tweet_list[i]['text']),\n",
    "        'named_entities' :  named_entities_list,\n",
    "        'user' : temp_user,\n",
    "    }\n",
    "\n",
    "    preprocessed_tweet_list.append(temp_tweet)"
   ]
  },
  {
   "cell_type": "code",
   "execution_count": 37,
   "metadata": {},
   "outputs": [
    {
     "data": {
      "text/plain": [
       "{'created_at': 'Mon Sep 04 19:07:25 +0000 2006',\n",
       " 'id': 25471,\n",
       " 'text': \"Steve Irwin* is dead! Betrayed by a stingray's 'dirty dagger.'\",\n",
       " 'geo': 'Gilbert, AZ',\n",
       " 'coordinates': None,\n",
       " 'quote_count': 0,\n",
       " 'reply_count': 0,\n",
       " 'retweet_count': 3,\n",
       " 'favorite_count': 0,\n",
       " 'entities': {'hashtags': [], 'urls': [], 'user_mentions': [], 'symbols': []},\n",
       " 'lang': 'en',\n",
       " 'sentiment': 'NEGATIVE',\n",
       " 'named_entities': [{'text': 'Steve Irwin',\n",
       "   'start_pos': 0,\n",
       "   'end_pos': 11,\n",
       "   'wiki_url': 'https://en.wikipedia.org/wiki/Steve_Irwin'}],\n",
       " 'user': {'id': 4465,\n",
       "  'name': 'Adam',\n",
       "  'screen_name': 'adammachado',\n",
       "  'location': 'Gilbert, AZ',\n",
       "  'url': None,\n",
       "  'description': 'CA, OR, AZ',\n",
       "  'verified': False,\n",
       "  'followers_count': 84,\n",
       "  'statuses_count': 1403,\n",
       "  'created_at': 'Fri Aug 18 01:20:47 +0000 2006',\n",
       "  'geo_enabled': True,\n",
       "  'lang': None}}"
      ]
     },
     "execution_count": 37,
     "metadata": {},
     "output_type": "execute_result"
    }
   ],
   "source": [
    "preprocessed_tweet_list[0]"
   ]
  },
  {
   "cell_type": "markdown",
   "metadata": {},
   "source": [
    "# Save Preprocessed Tweets"
   ]
  },
  {
   "cell_type": "code",
   "execution_count": 23,
   "metadata": {},
   "outputs": [],
   "source": [
    "def writeToJSONFile(path, fileName, data):\n",
    "    try:\n",
    "        filePathNameWExt = path + fileName\n",
    "        with open(filePathNameWExt, 'w') as fp:\n",
    "            json.dump(data, fp)\n",
    "    except Exception as e:\n",
    "        if(not quiet):\n",
    "            print(\"writeToJSONFile exception\")\n",
    "            print(e)"
   ]
  },
  {
   "cell_type": "markdown",
   "metadata": {},
   "source": [
    "## List Form"
   ]
  },
  {
   "cell_type": "code",
   "execution_count": 39,
   "metadata": {},
   "outputs": [],
   "source": [
    "json_preprocessed_tweet_list = json.loads(json.dumps(preprocessed_tweet_list))"
   ]
  },
  {
   "cell_type": "code",
   "execution_count": null,
   "metadata": {},
   "outputs": [],
   "source": [
    "writeToJSONFile('Preprocessed_Data/', 'preprocessed_tweets_list.json', json_preprocessed_tweet_list)"
   ]
  },
  {
   "cell_type": "code",
   "execution_count": null,
   "metadata": {},
   "outputs": [],
   "source": [
    "with open('Preprocessed_Data/preprocessed_tweets_list.json') as json_data:\n",
    "    tweets_json_from_file = json.load(json_data)"
   ]
  },
  {
   "cell_type": "markdown",
   "metadata": {},
   "source": [
    "Verify Tweets list and saved json file contain the same Tweets"
   ]
  },
  {
   "cell_type": "code",
   "execution_count": 29,
   "metadata": {},
   "outputs": [
    {
     "data": {
      "text/plain": [
       "True"
      ]
     },
     "execution_count": 29,
     "metadata": {},
     "output_type": "execute_result"
    }
   ],
   "source": [
    "len(preprocessed_tweet_list) == len(tweets_json_from_file)"
   ]
  },
  {
   "cell_type": "code",
   "execution_count": 30,
   "metadata": {},
   "outputs": [
    {
     "data": {
      "text/plain": [
       "True"
      ]
     },
     "execution_count": 30,
     "metadata": {},
     "output_type": "execute_result"
    }
   ],
   "source": [
    "preprocessed_tweet_list == tweets_json_from_file"
   ]
  },
  {
   "cell_type": "markdown",
   "metadata": {},
   "source": [
    "## Dictionary Form"
   ]
  },
  {
   "cell_type": "code",
   "execution_count": 32,
   "metadata": {},
   "outputs": [],
   "source": [
    "preprocessed_tweet_dict = {}"
   ]
  },
  {
   "cell_type": "code",
   "execution_count": 33,
   "metadata": {},
   "outputs": [],
   "source": [
    "for i in range(len(preprocessed_tweet_list)):\n",
    "    if preprocessed_tweet_list[i]['id'] not in preprocessed_tweet_dict:\n",
    "        preprocessed_tweet_dict[preprocessed_tweet_list[i]['id']] = preprocessed_tweet_list[i]\n",
    "    else: \n",
    "        print('Repeated ID')\n",
    "        stop()\n",
    "    "
   ]
  },
  {
   "cell_type": "code",
   "execution_count": 36,
   "metadata": {},
   "outputs": [
    {
     "data": {
      "text/plain": [
       "True"
      ]
     },
     "execution_count": 36,
     "metadata": {},
     "output_type": "execute_result"
    }
   ],
   "source": [
    "len(preprocessed_tweet_dict) == len(preprocessed_tweet_list)"
   ]
  },
  {
   "cell_type": "code",
   "execution_count": 38,
   "metadata": {},
   "outputs": [
    {
     "data": {
      "text/plain": [
       "{'created_at': 'Mon Sep 04 19:07:25 +0000 2006',\n",
       " 'id': 25471,\n",
       " 'text': \"Steve Irwin* is dead! Betrayed by a stingray's 'dirty dagger.'\",\n",
       " 'geo': 'Gilbert, AZ',\n",
       " 'coordinates': None,\n",
       " 'quote_count': 0,\n",
       " 'reply_count': 0,\n",
       " 'retweet_count': 3,\n",
       " 'favorite_count': 0,\n",
       " 'entities': {'hashtags': [], 'urls': [], 'user_mentions': [], 'symbols': []},\n",
       " 'lang': 'en',\n",
       " 'sentiment': 'NEGATIVE',\n",
       " 'named_entities': [{'text': 'Steve Irwin',\n",
       "   'start_pos': 0,\n",
       "   'end_pos': 11,\n",
       "   'wiki_url': 'https://en.wikipedia.org/wiki/Steve_Irwin'}],\n",
       " 'user': {'id': 4465,\n",
       "  'name': 'Adam',\n",
       "  'screen_name': 'adammachado',\n",
       "  'location': 'Gilbert, AZ',\n",
       "  'url': None,\n",
       "  'description': 'CA, OR, AZ',\n",
       "  'verified': False,\n",
       "  'followers_count': 84,\n",
       "  'statuses_count': 1403,\n",
       "  'created_at': 'Fri Aug 18 01:20:47 +0000 2006',\n",
       "  'geo_enabled': True,\n",
       "  'lang': None}}"
      ]
     },
     "execution_count": 38,
     "metadata": {},
     "output_type": "execute_result"
    }
   ],
   "source": [
    "preprocessed_tweet_dict[25471]"
   ]
  },
  {
   "cell_type": "code",
   "execution_count": 24,
   "metadata": {},
   "outputs": [],
   "source": [
    "json_preprocessed_tweet_dict = json.loads(json.dumps(preprocessed_tweet_dict))"
   ]
  },
  {
   "cell_type": "code",
   "execution_count": 25,
   "metadata": {},
   "outputs": [],
   "source": [
    "writeToJSONFile('Preprocessed_Data/', 'preprocessed_tweets_dict.json', json_preprocessed_tweet_dict)"
   ]
  },
  {
   "cell_type": "code",
   "execution_count": 26,
   "metadata": {},
   "outputs": [],
   "source": [
    "with open('Preprocessed_Data/preprocessed_tweets_dict.json') as json_data:\n",
    "    tweets_json_from_file = json.load(json_data)"
   ]
  },
  {
   "cell_type": "markdown",
   "metadata": {},
   "source": [
    "Verify Tweets list and saved json file contain the same Tweets"
   ]
  },
  {
   "cell_type": "code",
   "execution_count": 29,
   "metadata": {},
   "outputs": [
    {
     "data": {
      "text/plain": [
       "True"
      ]
     },
     "execution_count": 29,
     "metadata": {},
     "output_type": "execute_result"
    }
   ],
   "source": [
    "len(preprocessed_tweet_dict) == len(json_preprocessed_tweet_dict)"
   ]
  },
  {
   "cell_type": "code",
   "execution_count": 30,
   "metadata": {},
   "outputs": [
    {
     "data": {
      "text/plain": [
       "True"
      ]
     },
     "execution_count": 30,
     "metadata": {},
     "output_type": "execute_result"
    }
   ],
   "source": [
    "preprocessed_tweet_dict == json_preprocessed_tweet_dict"
   ]
  }
 ],
 "metadata": {
  "kernelspec": {
   "display_name": "Python 3",
   "language": "python",
   "name": "python3"
  },
  "language_info": {
   "codemirror_mode": {
    "name": "ipython",
    "version": 3
   },
   "file_extension": ".py",
   "mimetype": "text/x-python",
   "name": "python",
   "nbconvert_exporter": "python",
   "pygments_lexer": "ipython3",
   "version": "3.8.3"
  }
 },
 "nbformat": 4,
 "nbformat_minor": 4
}
